{
 "cells": [
  {
   "cell_type": "code",
   "execution_count": 1,
   "metadata": {
    "collapsed": true
   },
   "outputs": [],
   "source": [
    "import numpy as np\n",
    "import pandas as pd\n",
    "import matplotlib.pyplot as plt\n",
    "%matplotlib inline\n",
    "import seaborn as sns\n",
    "\n",
    "from sklearn.model_selection import (cross_val_score, train_test_split,\n",
    "                                    GridSearchCV, RandomizedSearchCV)\n",
    "from sklearn.preprocessing import Imputer\n",
    "%load_ext autoreload\n",
    "%autoreload 2"
   ]
  },
  {
   "cell_type": "code",
   "execution_count": 2,
   "metadata": {
    "collapsed": true
   },
   "outputs": [],
   "source": [
    "train = pd.read_csv('data/train_final.csv')\n",
    "test = pd.read_csv('data/test_final.csv')\n",
    "train = train.drop(['id'], axis=1)\n",
    "test = test.drop(['id'], axis=1)"
   ]
  },
  {
   "cell_type": "code",
   "execution_count": 3,
   "metadata": {
    "collapsed": true
   },
   "outputs": [],
   "source": [
    "# Divide dataset into X and y\n",
    "y = train.Y\n",
    "X = train.drop([\"Y\"], axis=1)\n",
    "X_test = test"
   ]
  },
  {
   "cell_type": "code",
   "execution_count": 4,
   "metadata": {
    "collapsed": false
   },
   "outputs": [
    {
     "data": {
      "text/html": [
       "<div>\n",
       "<table border=\"1\" class=\"dataframe\">\n",
       "  <thead>\n",
       "    <tr style=\"text-align: right;\">\n",
       "      <th></th>\n",
       "      <th>F1</th>\n",
       "      <th>F2</th>\n",
       "      <th>F3</th>\n",
       "      <th>F4</th>\n",
       "      <th>F5</th>\n",
       "      <th>F6</th>\n",
       "      <th>F7</th>\n",
       "      <th>F8</th>\n",
       "      <th>F9</th>\n",
       "      <th>F10</th>\n",
       "      <th>...</th>\n",
       "      <th>F18</th>\n",
       "      <th>F19</th>\n",
       "      <th>F20</th>\n",
       "      <th>F21</th>\n",
       "      <th>F22</th>\n",
       "      <th>F23</th>\n",
       "      <th>F24</th>\n",
       "      <th>F25</th>\n",
       "      <th>F26</th>\n",
       "      <th>F27</th>\n",
       "    </tr>\n",
       "  </thead>\n",
       "  <tbody>\n",
       "    <tr>\n",
       "      <th>0</th>\n",
       "      <td>1.0</td>\n",
       "      <td>0.0</td>\n",
       "      <td>0.107576</td>\n",
       "      <td>0.0</td>\n",
       "      <td>0.0</td>\n",
       "      <td>1.0</td>\n",
       "      <td>1.0</td>\n",
       "      <td>1.0</td>\n",
       "      <td>1.0</td>\n",
       "      <td>0.0</td>\n",
       "      <td>...</td>\n",
       "      <td>104.0</td>\n",
       "      <td>22902.0</td>\n",
       "      <td>1.0</td>\n",
       "      <td>0.0</td>\n",
       "      <td>18.0</td>\n",
       "      <td>0.042295</td>\n",
       "      <td>1.0</td>\n",
       "      <td>0.0</td>\n",
       "      <td>27.0</td>\n",
       "      <td>0.028250</td>\n",
       "    </tr>\n",
       "    <tr>\n",
       "      <th>1</th>\n",
       "      <td>1.0</td>\n",
       "      <td>0.0</td>\n",
       "      <td>0.142357</td>\n",
       "      <td>0.0</td>\n",
       "      <td>0.0</td>\n",
       "      <td>7.0</td>\n",
       "      <td>1.0</td>\n",
       "      <td>1.0</td>\n",
       "      <td>1.0</td>\n",
       "      <td>1.0</td>\n",
       "      <td>...</td>\n",
       "      <td>144.0</td>\n",
       "      <td>11400.0</td>\n",
       "      <td>1.0</td>\n",
       "      <td>0.0</td>\n",
       "      <td>8.0</td>\n",
       "      <td>0.021417</td>\n",
       "      <td>1.0</td>\n",
       "      <td>0.0</td>\n",
       "      <td>67.0</td>\n",
       "      <td>0.253574</td>\n",
       "    </tr>\n",
       "    <tr>\n",
       "      <th>2</th>\n",
       "      <td>1.0</td>\n",
       "      <td>0.0</td>\n",
       "      <td>0.492318</td>\n",
       "      <td>0.0</td>\n",
       "      <td>3.0</td>\n",
       "      <td>4205.0</td>\n",
       "      <td>1.0</td>\n",
       "      <td>1.0</td>\n",
       "      <td>3.0</td>\n",
       "      <td>1.0</td>\n",
       "      <td>...</td>\n",
       "      <td>112.0</td>\n",
       "      <td>4833.0</td>\n",
       "      <td>1.0</td>\n",
       "      <td>0.0</td>\n",
       "      <td>13.0</td>\n",
       "      <td>0.502212</td>\n",
       "      <td>1.0</td>\n",
       "      <td>1.0</td>\n",
       "      <td>35.0</td>\n",
       "      <td>0.373397</td>\n",
       "    </tr>\n",
       "    <tr>\n",
       "      <th>3</th>\n",
       "      <td>1.0</td>\n",
       "      <td>0.0</td>\n",
       "      <td>-0.053028</td>\n",
       "      <td>0.0</td>\n",
       "      <td>2.0</td>\n",
       "      <td>2.0</td>\n",
       "      <td>1.0</td>\n",
       "      <td>1.0</td>\n",
       "      <td>5.0</td>\n",
       "      <td>2.0</td>\n",
       "      <td>...</td>\n",
       "      <td>127.0</td>\n",
       "      <td>3250.0</td>\n",
       "      <td>1.0</td>\n",
       "      <td>1.0</td>\n",
       "      <td>8.0</td>\n",
       "      <td>0.000000</td>\n",
       "      <td>1.0</td>\n",
       "      <td>0.0</td>\n",
       "      <td>50.0</td>\n",
       "      <td>0.674254</td>\n",
       "    </tr>\n",
       "    <tr>\n",
       "      <th>4</th>\n",
       "      <td>1.0</td>\n",
       "      <td>0.0</td>\n",
       "      <td>0.730797</td>\n",
       "      <td>0.0</td>\n",
       "      <td>0.0</td>\n",
       "      <td>11.0</td>\n",
       "      <td>1.0</td>\n",
       "      <td>1.0</td>\n",
       "      <td>1.0</td>\n",
       "      <td>1.0</td>\n",
       "      <td>...</td>\n",
       "      <td>148.0</td>\n",
       "      <td>4000.0</td>\n",
       "      <td>1.0</td>\n",
       "      <td>1.0</td>\n",
       "      <td>5.0</td>\n",
       "      <td>0.787592</td>\n",
       "      <td>1.0</td>\n",
       "      <td>0.0</td>\n",
       "      <td>71.0</td>\n",
       "      <td>0.371157</td>\n",
       "    </tr>\n",
       "  </tbody>\n",
       "</table>\n",
       "<p>5 rows × 27 columns</p>\n",
       "</div>"
      ],
      "text/plain": [
       "    F1   F2        F3   F4   F5      F6   F7   F8   F9  F10    ...       F18  \\\n",
       "0  1.0  0.0  0.107576  0.0  0.0     1.0  1.0  1.0  1.0  0.0    ...     104.0   \n",
       "1  1.0  0.0  0.142357  0.0  0.0     7.0  1.0  1.0  1.0  1.0    ...     144.0   \n",
       "2  1.0  0.0  0.492318  0.0  3.0  4205.0  1.0  1.0  3.0  1.0    ...     112.0   \n",
       "3  1.0  0.0 -0.053028  0.0  2.0     2.0  1.0  1.0  5.0  2.0    ...     127.0   \n",
       "4  1.0  0.0  0.730797  0.0  0.0    11.0  1.0  1.0  1.0  1.0    ...     148.0   \n",
       "\n",
       "       F19  F20  F21   F22       F23  F24  F25   F26       F27  \n",
       "0  22902.0  1.0  0.0  18.0  0.042295  1.0  0.0  27.0  0.028250  \n",
       "1  11400.0  1.0  0.0   8.0  0.021417  1.0  0.0  67.0  0.253574  \n",
       "2   4833.0  1.0  0.0  13.0  0.502212  1.0  1.0  35.0  0.373397  \n",
       "3   3250.0  1.0  1.0   8.0  0.000000  1.0  0.0  50.0  0.674254  \n",
       "4   4000.0  1.0  1.0   5.0  0.787592  1.0  0.0  71.0  0.371157  \n",
       "\n",
       "[5 rows x 27 columns]"
      ]
     },
     "execution_count": 4,
     "metadata": {},
     "output_type": "execute_result"
    }
   ],
   "source": [
    "# Impute missing features\n",
    "from sklearn.preprocessing import Imputer\n",
    "\n",
    "# train = train.apply(lambda x: x.fillna(x.value_counts().index[0]))\n",
    "imp = Imputer(missing_values='NaN', strategy='mean', axis=0)\n",
    "train_xform = imp.fit_transform(X)\n",
    "# TODO: Impute dataframe so that F5 uses median\n",
    "# and F19 uses mean. For now, we'll impute via mean for both.\n",
    "\n",
    "X = pd.DataFrame(train_xform, columns=X.columns)\n",
    "test_xform = imp.transform(X_test)\n",
    "X_test = pd.DataFrame(test_xform, columns=X_test.columns)\n",
    "\n",
    "X.head(5)"
   ]
  },
  {
   "cell_type": "code",
   "execution_count": 5,
   "metadata": {
    "collapsed": true
   },
   "outputs": [],
   "source": [
    "# Split data.\n",
    "X_train, X_val, y_train, y_val = train_test_split(X, y, test_size=0.10, random_state=42)"
   ]
  },
  {
   "cell_type": "code",
   "execution_count": 6,
   "metadata": {
    "collapsed": false
   },
   "outputs": [
    {
     "data": {
      "text/plain": [
       "{'booster': 'gbtree',\n",
       " 'colsample_bytree': 0.5,\n",
       " 'eta': 0.025,\n",
       " 'eval_metric': 'auc',\n",
       " 'gamma': 0.8,\n",
       " 'max_depth': 13,\n",
       " 'min_child_weight': 2.0,\n",
       " 'n_estimators': 191.0,\n",
       " 'nthread': 4,\n",
       " 'objective': 'binary:logistic',\n",
       " 'seed': 42,\n",
       " 'silent': 1,\n",
       " 'subsample': 0.7000000000000001,\n",
       " 'tree_method': 'exact'}"
      ]
     },
     "execution_count": 6,
     "metadata": {},
     "output_type": "execute_result"
    }
   ],
   "source": [
    " {'booster': 'gbtree', 'seed': 42, 'objective': 'binary:logistic',\n",
    "  'eval_metric': 'auc', 'nthread': 4, 'colsample_bytree': 0.5, \n",
    "  'gamma': 0.8, 'subsample': 0.7000000000000001, 'tree_method': 'exact', \n",
    "  'min_child_weight': 2.0, 'n_estimators': 191.0, 'max_depth': 13, 'silent': 1, 'eta': 0.025}"
   ]
  },
  {
   "cell_type": "code",
   "execution_count": 9,
   "metadata": {
    "collapsed": false
   },
   "outputs": [
    {
     "name": "stdout",
     "output_type": "stream",
     "text": [
      "1 loop, best of 3: 31min 34s per loop\n"
     ]
    }
   ],
   "source": [
    "import xgboost as xgb\n",
    "\n",
    "\n",
    "\n",
    "param_grid = {\n",
    "              'n_estimators': [100, 191],\n",
    "              'learning_rate': [0.025],\n",
    "              'gamma': [0.8], \n",
    "              'max_depth': [13], \n",
    "              'min_child_weight': [2],\n",
    "              'subsample': [0.7],\n",
    "              'colsample_bytree': [0.5], \n",
    "              'reg_lambda': [0.01, 0.1, 1.0],\n",
    "              'reg_alpha': [0, 0.1, 0.5, 1.0],\n",
    "             }\n",
    "\n",
    "clf = RandomizedSearchCV(xgb.XGBClassifier(), param_grid, n_iter=24, cv=10, scoring='roc_auc', n_jobs=-1)\n",
    "%timeit clf.fit(X_train, y_train)"
   ]
  },
  {
   "cell_type": "code",
   "execution_count": 11,
   "metadata": {
    "collapsed": false
   },
   "outputs": [
    {
     "name": "stdout",
     "output_type": "stream",
     "text": [
      "Best parameter set found on development set with cv=10:\n",
      "\n",
      "{'reg_alpha': 1.0, 'n_estimators': 100, 'min_child_weight': 2, 'gamma': 0.8, 'learning_rate': 0.025, 'reg_lambda': 1.0, 'max_depth': 13, 'subsample': 0.7, 'colsample_bytree': 0.5}\n",
      "Best holdout score found on development set with cv=10:\n",
      "\n",
      "0.859015090233\n",
      "\n",
      "[ 0.96755749  0.96529295  0.93885507  0.96353637  0.9601218   0.93444747\n",
      "  0.94000513  0.93747654  0.91986913  0.91889493  0.91731437  0.90657852\n",
      "  0.98358616  0.98252591  0.96820157  0.98181541  0.98021119  0.96583734\n",
      "  0.97054964  0.96900996  0.95572476  0.95641709  0.95486418  0.94355303]\n",
      "[ 0.85714719  0.85692049  0.85867739  0.85689685  0.85657678  0.85871784\n",
      "  0.85806897  0.85842191  0.85829997  0.85788809  0.85797268  0.85901509\n",
      "  0.8540899   0.8544546   0.85661111  0.85433322  0.85477472  0.85678396\n",
      "  0.85561551  0.85531921  0.85703611  0.85659831  0.85698273  0.85819794]\n",
      "Validation score:\n",
      "\n",
      "0.857435115985\n"
     ]
    }
   ],
   "source": [
    "print(\"Best parameter set found on development set with cv={}:\\n\"\n",
    "      .format(10))\n",
    "print(clf.best_params_)\n",
    "print(\"Best holdout score found on development set with cv={}:\\n\"\n",
    "      .format(10))\n",
    "print(clf.best_score_)\n",
    "print()\n",
    "score = clf.score(X_val, y_val)\n",
    "\n",
    "print(clf.cv_results_['mean_train_score'])\n",
    "print(clf.cv_results_['mean_test_score'])\n",
    "print(\"Validation score:\\n\")\n",
    "print(score)"
   ]
  },
  {
   "cell_type": "code",
   "execution_count": 12,
   "metadata": {
    "collapsed": true
   },
   "outputs": [],
   "source": [
    "def write_results(outfile, predictions):\n",
    "    ID = range(49999, 99998 + 1)\n",
    "    with open(outfile, 'w') as f:\n",
    "        f.write('id,Y\\n')\n",
    "        for instance, prediction in zip(ID, predictions):\n",
    "            f.write('{},{}\\n'.format(instance, prediction))"
   ]
  },
  {
   "cell_type": "code",
   "execution_count": 14,
   "metadata": {
    "collapsed": true
   },
   "outputs": [],
   "source": [
    "outfile = 'output/xgb_lambda1.0_alpha1.0_subsample0.7_gamma0.8_lr0.025_colsample0.5_minchildw2_maxdepth13_derp.csv'\n",
    "predictions = clf.predict_proba(X_test)[:, 1]\n",
    "write_results(outfile, predictions)"
   ]
  },
  {
   "cell_type": "code",
   "execution_count": null,
   "metadata": {
    "collapsed": true
   },
   "outputs": [],
   "source": []
  }
 ],
 "metadata": {
  "anaconda-cloud": {},
  "kernelspec": {
   "display_name": "Python [conda env:datasci]",
   "language": "python",
   "name": "conda-env-datasci-py"
  },
  "language_info": {
   "codemirror_mode": {
    "name": "ipython",
    "version": 3
   },
   "file_extension": ".py",
   "mimetype": "text/x-python",
   "name": "python",
   "nbconvert_exporter": "python",
   "pygments_lexer": "ipython3",
   "version": "3.5.2"
  }
 },
 "nbformat": 4,
 "nbformat_minor": 1
}
