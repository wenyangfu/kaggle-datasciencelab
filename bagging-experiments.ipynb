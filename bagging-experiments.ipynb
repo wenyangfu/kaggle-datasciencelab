{
 "cells": [
  {
   "cell_type": "code",
   "execution_count": 1,
   "metadata": {
    "collapsed": false
   },
   "outputs": [],
   "source": [
    "import numpy as np\n",
    "import pandas as pd\n",
    "import matplotlib.pyplot as plt\n",
    "%matplotlib inline\n",
    "import seaborn as sns\n",
    "\n",
    "from sklearn.model_selection import (cross_val_score, train_test_split,\n",
    "                                    GridSearchCV, RandomizedSearchCV)\n",
    "from sklearn.preprocessing import Imputer\n",
    "from mlutils import *\n",
    "%load_ext autoreload\n",
    "%autoreload 2\n",
    "\n",
    "# SEED = 42 # Initial results were performed with a SEED of 42, but let's change things up.\n",
    "SEED = 25"
   ]
  },
  {
   "cell_type": "code",
   "execution_count": 2,
   "metadata": {
    "collapsed": true
   },
   "outputs": [],
   "source": [
    "train = pd.read_csv('data/train_final.csv')\n",
    "test = pd.read_csv('data/test_final.csv')\n",
    "train = train.drop(['id'], axis=1)\n",
    "test = test.drop(['id'], axis=1)\n",
    "\n",
    "# Divide dataset into X and y\n",
    "y = train.Y\n",
    "X = train.drop([\"Y\"], axis=1)\n",
    "X_test = test"
   ]
  },
  {
   "cell_type": "code",
   "execution_count": 3,
   "metadata": {
    "collapsed": false
   },
   "outputs": [],
   "source": [
    "# Impute missing features\n",
    "from sklearn.preprocessing import Imputer\n",
    "\n",
    "# train = train.apply(lambda x: x.fillna(x.value_counts().index[0]))\n",
    "imp = Imputer(missing_values='NaN', strategy='mean', axis=0)\n",
    "train_xform = imp.fit_transform(X)\n",
    "# TODO: Impute dataframe so that F5 uses median\n",
    "# and F19 uses mean. For now, we'll impute via mean for both.\n",
    "\n",
    "X = pd.DataFrame(train_xform, columns=X.columns)\n",
    "test_xform = imp.transform(X_test)\n",
    "X_test = pd.DataFrame(test_xform, columns=X_test.columns)\n",
    "\n",
    "X.head(5)\n",
    "\n",
    "# Split data.\n",
    "# X_train, X_val, y_train, y_val = train_test_split(X, y, test_size=0.10, random_state=SEED)\n",
    "X_train = X\n",
    "y_train = y"
   ]
  },
  {
   "cell_type": "code",
   "execution_count": 4,
   "metadata": {
    "collapsed": false
   },
   "outputs": [],
   "source": [
    "import xgboost as xgb\n",
    "from sklearn.ensemble import BaggingClassifier\n",
    "\n",
    "# For this example, train on all examples with risk of public leaderboard overfitting.\n",
    "SEED = 25\n",
    "\n",
    "params = {'max_depth': 5,\n",
    "         'learning_rate': 0.025, \n",
    "         'n_estimators': 724,\n",
    "         'silent': False,\n",
    "         'objective': 'binary:logistic',\n",
    "         'nthread': 4,\n",
    "         'gamma': 0.6000000000000001, \n",
    "         'min_child_weight': 2.0, \n",
    "         'subsample': 0.9, \n",
    "         'colsample_bytree': 0.5, \n",
    "#          'tree_method': 'exact', \n",
    "         'seed': SEED,      \n",
    "#          'booster': 'gbtree', \n",
    "#          'eval_metric': 'auc'\n",
    "}\n",
    "\n",
    "gbm_model = xgb.XGBClassifier(**params)\n",
    "bag_clf = BaggingClassifier(gbm_model, n_estimators=10, random_state=SEED)\n",
    "# predictions = gbm_model.predict(xgb.DMatrix(X_test))"
   ]
  },
  {
   "cell_type": "code",
   "execution_count": 5,
   "metadata": {
    "collapsed": false
   },
   "outputs": [
    {
     "name": "stderr",
     "output_type": "stream",
     "text": [
      "/home/aetherzephyr/anaconda3/envs/datasci/lib/python3.5/site-packages/sklearn/externals/joblib/parallel.py:540: UserWarning: Multiprocessing-backed parallel loops cannot be nested, setting n_jobs=1\n",
      "  **self._backend_args)\n",
      "/home/aetherzephyr/anaconda3/envs/datasci/lib/python3.5/site-packages/sklearn/externals/joblib/parallel.py:540: UserWarning: Multiprocessing-backed parallel loops cannot be nested, setting n_jobs=1\n",
      "  **self._backend_args)\n",
      "/home/aetherzephyr/anaconda3/envs/datasci/lib/python3.5/site-packages/sklearn/externals/joblib/parallel.py:540: UserWarning: Multiprocessing-backed parallel loops cannot be nested, setting n_jobs=1\n",
      "  **self._backend_args)\n",
      "/home/aetherzephyr/anaconda3/envs/datasci/lib/python3.5/site-packages/sklearn/externals/joblib/parallel.py:540: UserWarning: Multiprocessing-backed parallel loops cannot be nested, setting n_jobs=1\n",
      "  **self._backend_args)\n",
      "/home/aetherzephyr/anaconda3/envs/datasci/lib/python3.5/site-packages/sklearn/externals/joblib/parallel.py:540: UserWarning: Multiprocessing-backed parallel loops cannot be nested, setting n_jobs=1\n",
      "  **self._backend_args)\n",
      "/home/aetherzephyr/anaconda3/envs/datasci/lib/python3.5/site-packages/sklearn/externals/joblib/parallel.py:540: UserWarning: Multiprocessing-backed parallel loops cannot be nested, setting n_jobs=1\n",
      "  **self._backend_args)\n",
      "/home/aetherzephyr/anaconda3/envs/datasci/lib/python3.5/site-packages/sklearn/externals/joblib/parallel.py:540: UserWarning: Multiprocessing-backed parallel loops cannot be nested, setting n_jobs=1\n",
      "  **self._backend_args)\n",
      "/home/aetherzephyr/anaconda3/envs/datasci/lib/python3.5/site-packages/sklearn/externals/joblib/parallel.py:540: UserWarning: Multiprocessing-backed parallel loops cannot be nested, setting n_jobs=1\n",
      "  **self._backend_args)\n",
      "/home/aetherzephyr/anaconda3/envs/datasci/lib/python3.5/site-packages/sklearn/externals/joblib/parallel.py:540: UserWarning: Multiprocessing-backed parallel loops cannot be nested, setting n_jobs=1\n",
      "  **self._backend_args)\n",
      "/home/aetherzephyr/anaconda3/envs/datasci/lib/python3.5/site-packages/sklearn/externals/joblib/parallel.py:540: UserWarning: Multiprocessing-backed parallel loops cannot be nested, setting n_jobs=1\n",
      "  **self._backend_args)\n"
     ]
    }
   ],
   "source": [
    "scores = cross_val_score(\n",
    "        bag_clf, X, y, scoring='roc_auc', cv=5, n_jobs=1)"
   ]
  },
  {
   "cell_type": "code",
   "execution_count": 9,
   "metadata": {
    "collapsed": false
   },
   "outputs": [
    {
     "name": "stdout",
     "output_type": "stream",
     "text": [
      "0.858460936701\n",
      "0.00849036237219\n"
     ]
    }
   ],
   "source": [
    "print(scores.mean())\n",
    "print(scores.std())"
   ]
  },
  {
   "cell_type": "code",
   "execution_count": 12,
   "metadata": {
    "collapsed": false
   },
   "outputs": [],
   "source": [
    "bag_clf = BaggingClassifier(gbm_model, n_estimators=10, random_state=SEED)\n",
    "\n",
    "bag_clf.fit(X, y)\n",
    "predictions  = bag_clf.predict_proba(X_test)[:, 1]"
   ]
  },
  {
   "cell_type": "code",
   "execution_count": 14,
   "metadata": {
    "collapsed": false
   },
   "outputs": [],
   "source": [
    "params = {'max_depth': 5,\n",
    "         'learning_rate': 0.025, \n",
    "         'n_estimators': 724,\n",
    "         'silent': False,\n",
    "         'objective': 'binary:logistic',\n",
    "         'nthread': 4,\n",
    "         'gamma': 0.6000000000000001, \n",
    "         'min_child_weight': 2.0, \n",
    "         'subsample': 0.9, \n",
    "         'colsample_bytree': 0.5, \n",
    "#          'tree_method': 'exact', \n",
    "         'seed': SEED,\n",
    "#          'booster': 'gbtree', \n",
    "#          'eval_metric': 'auc'\n",
    "         'n_bagged_estimators': 10,\n",
    "}\n",
    "\n",
    "score = 0.858460936701  # cross val score before picking this model and training it on all data\n",
    "std = 0.00849036237219\n",
    "model_name = 'xgb_bagged_10'\n",
    "outfile = 'output/{}.csv'.format(model_name)\n",
    "\n",
    "save_model_and_desc(bag_clf, model_name, params,\n",
    "                  score, std, SEED)\n",
    "write_results(outfile, predictions)"
   ]
  },
  {
   "cell_type": "markdown",
   "metadata": {},
   "source": [
    "## Let's try bagging with more XGBoost estimators, and change the seed.\n",
    "## Try 30 estimators, 10 seeds."
   ]
  },
  {
   "cell_type": "code",
   "execution_count": 5,
   "metadata": {
    "collapsed": false
   },
   "outputs": [],
   "source": [
    "SEED = 100\n",
    "\n",
    "params = {'max_depth': 5,\n",
    "         'learning_rate': 0.025, \n",
    "         'n_estimators': 724,\n",
    "         'silent': False,\n",
    "         'objective': 'binary:logistic',\n",
    "         'nthread': 4,\n",
    "         'gamma': 0.6000000000000001, \n",
    "         'min_child_weight': 2.0, \n",
    "         'subsample': 0.9, \n",
    "         'colsample_bytree': 0.5, \n",
    "         'seed': SEED,\n",
    "#          'n_bagged_estimators': 30,\n",
    "}\n",
    "\n",
    "gbm_model = xgb.XGBClassifier(**params)\n",
    "bag_clf = BaggingClassifier(gbm_model, n_estimators=30, random_state=SEED)"
   ]
  },
  {
   "cell_type": "code",
   "execution_count": 6,
   "metadata": {
    "collapsed": false
   },
   "outputs": [
    {
     "name": "stdout",
     "output_type": "stream",
     "text": [
      "0.859178536779\n",
      "0.00802806487255\n"
     ]
    }
   ],
   "source": [
    "scores = cross_val_score(\n",
    "        bag_clf, X, y, scoring='roc_auc', cv=5, n_jobs=1)\n",
    "print(scores.mean())\n",
    "print(scores.std())"
   ]
  },
  {
   "cell_type": "code",
   "execution_count": 7,
   "metadata": {
    "collapsed": true
   },
   "outputs": [],
   "source": [
    "bag_clf.fit(X, y)\n",
    "predictions  = bag_clf.predict_proba(X_test)[:, 1]\n"
   ]
  },
  {
   "cell_type": "code",
   "execution_count": 8,
   "metadata": {
    "collapsed": true
   },
   "outputs": [],
   "source": [
    "params = {'max_depth': 5,\n",
    "         'learning_rate': 0.025, \n",
    "         'n_estimators': 724,\n",
    "         'silent': False,\n",
    "         'objective': 'binary:logistic',\n",
    "         'nthread': 4,\n",
    "         'gamma': 0.6000000000000001, \n",
    "         'min_child_weight': 2.0, \n",
    "         'subsample': 0.9, \n",
    "         'colsample_bytree': 0.5, \n",
    "#          'tree_method': 'exact', \n",
    "         'seed': SEED,\n",
    "#          'booster': 'gbtree', \n",
    "#          'eval_metric': 'auc'\n",
    "         'n_bagged_estimators': 30,\n",
    "}\n",
    "\n",
    "score = scores.mean()  # cross val score before picking this model and training it on all data\n",
    "std = scores.std()\n",
    "model_name = 'xgb_bagged_30'\n",
    "outfile = 'output/{}.csv'.format(model_name)\n",
    "\n",
    "save_model_and_desc(bag_clf, model_name, params,\n",
    "                  score, std, SEED)\n",
    "write_results(outfile, predictions)"
   ]
  },
  {
   "cell_type": "code",
   "execution_count": 10,
   "metadata": {
    "collapsed": false
   },
   "outputs": [],
   "source": [
    "import xgboost as xgb\n",
    "from sklearn.ensemble import BaggingClassifier\n",
    "\n",
    "# For this example, train on all examples with risk of public leaderboard overfitting.\n",
    "\n",
    "params_xgb = {'max_depth': 5,\n",
    "         'learning_rate': 0.025, \n",
    "         'n_estimators': 724,\n",
    "         'silent': False,\n",
    "         'objective': 'binary:logistic',\n",
    "         'nthread': 4,\n",
    "         'gamma': 0.6000000000000001, \n",
    "         'min_child_weight': 2.0, \n",
    "         'subsample': 0.9, \n",
    "         'colsample_bytree': 0.5, \n",
    "#          'tree_method': 'exact', \n",
    "         'seed': SEED,      \n",
    "#          'booster': 'gbtree', \n",
    "#          'eval_metric': 'auc'\n",
    "}\n",
    "\n",
    "gbm_model = xgb.XGBClassifier(**params_xgb)\n",
    "bag_clf = BaggingClassifier(gbm_model, n_estimators=20, random_state=SEED)\n",
    "# predictions = gbm_model.predict(xgb.DMatrix(X_test))"
   ]
  },
  {
   "cell_type": "code",
   "execution_count": null,
   "metadata": {
    "collapsed": true
   },
   "outputs": [],
   "source": [
    "from sklearn.model_selection import StratifiedKFold\n",
    "\n",
    "X = np.ones(10)\n",
    "y = [0, 0, 0, 0, 1, 1, 1, 1, 1, 1]\n",
    "skf = StratifiedKFold(n_splits=3)\n",
    "for train, test in skf.split(X, y):\n",
    "    print(\"%s %s\" % (train, test))"
   ]
  }
 ],
 "metadata": {
  "anaconda-cloud": {},
  "kernelspec": {
   "display_name": "Python [conda env:datasci]",
   "language": "python",
   "name": "conda-env-datasci-py"
  },
  "language_info": {
   "codemirror_mode": {
    "name": "ipython",
    "version": 3
   },
   "file_extension": ".py",
   "mimetype": "text/x-python",
   "name": "python",
   "nbconvert_exporter": "python",
   "pygments_lexer": "ipython3",
   "version": "3.5.2"
  }
 },
 "nbformat": 4,
 "nbformat_minor": 1
}
