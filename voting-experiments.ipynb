{
 "cells": [
  {
   "cell_type": "code",
   "execution_count": 1,
   "metadata": {
    "collapsed": false
   },
   "outputs": [],
   "source": [
    "import numpy as np\n",
    "import pandas as pd\n",
    "import matplotlib.pyplot as plt\n",
    "%matplotlib inline\n",
    "import seaborn as sns\n",
    "\n",
    "from sklearn.model_selection import (cross_val_score, train_test_split,\n",
    "                                    GridSearchCV, RandomizedSearchCV)\n",
    "from sklearn.preprocessing import Imputer\n",
    "from sklearn.ensemble import VotingClassifier\n",
    "from sklearn.ensemble import BaggingClassifier\n",
    "import xgboost as xgb\n",
    "\n",
    "from mlutils import *\n",
    "%load_ext autoreload\n",
    "%autoreload 2\n",
    "\n",
    "# SEED = 42 # Initial results were performed with a SEED of 42, but let's change things up.\n",
    "SEED = 100"
   ]
  },
  {
   "cell_type": "code",
   "execution_count": 2,
   "metadata": {
    "collapsed": true
   },
   "outputs": [],
   "source": [
    "train = pd.read_csv('data/train_final.csv')\n",
    "test = pd.read_csv('data/test_final.csv')\n",
    "train = train.drop(['id'], axis=1)\n",
    "test = test.drop(['id'], axis=1)\n",
    "\n",
    "# Divide dataset into X and y\n",
    "y = train.Y\n",
    "X = train.drop([\"Y\"], axis=1)\n",
    "X_test = test"
   ]
  },
  {
   "cell_type": "code",
   "execution_count": 3,
   "metadata": {
    "collapsed": true
   },
   "outputs": [],
   "source": [
    "# Impute missing features\n",
    "from sklearn.preprocessing import Imputer\n",
    "\n",
    "# train = train.apply(lambda x: x.fillna(x.value_counts().index[0]))\n",
    "imp = Imputer(missing_values='NaN', strategy='mean', axis=0)\n",
    "train_xform = imp.fit_transform(X)\n",
    "# TODO: Impute dataframe so that F5 uses median\n",
    "# and F19 uses mean. For now, we'll impute via mean for both.\n",
    "\n",
    "X = pd.DataFrame(train_xform, columns=X.columns)\n",
    "test_xform = imp.transform(X_test)\n",
    "X_test = pd.DataFrame(test_xform, columns=X_test.columns)\n",
    "\n",
    "X.head(5)\n",
    "\n",
    "# Split data.\n",
    "# X_train, X_val, y_train, y_val = train_test_split(X, y, test_size=0.10, random_state=SEED)\n",
    "X_train = X\n",
    "y_train = y"
   ]
  },
  {
   "cell_type": "markdown",
   "metadata": {},
   "source": [
    "# This file demonstrates a VotingClassifier on all of the models."
   ]
  },
  {
   "cell_type": "code",
   "execution_count": 4,
   "metadata": {
    "collapsed": true
   },
   "outputs": [],
   "source": [
    "import xgboost as xgb\n",
    "from sklearn.ensemble import BaggingClassifier\n",
    "\n",
    "# For this example, train on all examples with risk of public leaderboard overfitting.\n",
    "\n",
    "params_xgb = {'max_depth': 5,\n",
    "         'learning_rate': 0.025, \n",
    "         'n_estimators': 724,\n",
    "         'silent': False,\n",
    "         'objective': 'binary:logistic',\n",
    "         'nthread': 4,\n",
    "         'gamma': 0.6000000000000001, \n",
    "         'min_child_weight': 2.0, \n",
    "         'subsample': 0.9, \n",
    "         'colsample_bytree': 0.5, \n",
    "#          'tree_method': 'exact', \n",
    "         'seed': SEED,      \n",
    "#          'booster': 'gbtree', \n",
    "#          'eval_metric': 'auc'\n",
    "}\n",
    "\n",
    "gbm_model = xgb.XGBClassifier(**params_xgb)\n",
    "bag_clf = BaggingClassifier(gbm_model, n_estimators=20, random_state=SEED)\n",
    "# predictions = gbm_model.predict(xgb.DMatrix(X_test))"
   ]
  },
  {
   "cell_type": "code",
   "execution_count": 5,
   "metadata": {
    "collapsed": false
   },
   "outputs": [],
   "source": [
    "scores = cross_val_score(\n",
    "        bag_clf, X, y, scoring='roc_auc', cv=5, n_jobs=1)"
   ]
  },
  {
   "cell_type": "code",
   "execution_count": 8,
   "metadata": {
    "collapsed": false
   },
   "outputs": [
    {
     "name": "stdout",
     "output_type": "stream",
     "text": [
      "Accuracy: 0.85904 (+/- 0.00806) [XGBoost]\n"
     ]
    }
   ],
   "source": [
    "print(\"Accuracy: %0.5f (+/- %0.5f) [%s]\" % (scores.mean(), scores.std(), 'XGBoost'))"
   ]
  },
  {
   "cell_type": "markdown",
   "metadata": {},
   "source": [
    "# Best RF (5-fold CV)"
   ]
  },
  {
   "cell_type": "code",
   "execution_count": 9,
   "metadata": {
    "collapsed": true
   },
   "outputs": [],
   "source": [
    "from sklearn.ensemble import RandomForestClassifier\n",
    "\n",
    "params = {'min_samples_leaf': 10, 'max_depth': 10, 'max_features': 'sqrt', 'n_estimators': 300, 'min_samples_split': 15}\n",
    "\n",
    "rf = RandomForestClassifier(\n",
    "        n_estimators=params['n_estimators'],\n",
    "        max_depth=params['max_depth'],\n",
    "        min_samples_split=params['min_samples_split'],\n",
    "        min_samples_leaf=params['min_samples_leaf'],\n",
    "        max_features=params['max_features']\n",
    "    )\n",
    "\n",
    "scores = cross_val_score(\n",
    "        rf, X, y, scoring='roc_auc', cv=5, n_jobs=-1)"
   ]
  },
  {
   "cell_type": "code",
   "execution_count": 11,
   "metadata": {
    "collapsed": false
   },
   "outputs": [
    {
     "name": "stdout",
     "output_type": "stream",
     "text": [
      "Accuracy: 0.85950 (+/- 0.00701) [RF]\n"
     ]
    }
   ],
   "source": [
    "print(\"Accuracy: %0.5f (+/- %0.5f) [%s]\" % (scores.mean(), scores.std(), 'RF'))"
   ]
  },
  {
   "cell_type": "code",
   "execution_count": 14,
   "metadata": {
    "collapsed": false
   },
   "outputs": [
    {
     "name": "stdout",
     "output_type": "stream",
     "text": [
      "Accuracy: 0.86084 (+/- 0.00725) [Voting Ensemble]\n"
     ]
    }
   ],
   "source": [
    "eclf = VotingClassifier(estimators=[('xgb', gbm_model), ('rf', rf)],voting='soft')\n",
    "scores = cross_val_score(eclf, X, y, cv=5, scoring='roc_auc')\n",
    "print(\"Accuracy: %0.5f (+/- %0.5f) [%s]\" % (scores.mean(), scores.std(), 'Voting Ensemble'))"
   ]
  },
  {
   "cell_type": "code",
   "execution_count": 17,
   "metadata": {
    "collapsed": false
   },
   "outputs": [
    {
     "name": "stdout",
     "output_type": "stream",
     "text": [
      "Accuracy: 0.82116 (+/- 0.01002) [MLP Classifier]\n"
     ]
    }
   ],
   "source": [
    "from sklearn.neural_network import MLPClassifier\n",
    "\n",
    "# Standard Scale features\n",
    "from sklearn.preprocessing import StandardScaler\n",
    "\n",
    "scaler = StandardScaler()\n",
    "scaler.fit(X)\n",
    "X_scaled = scaler.transform(X)\n",
    "X_test_scaled = scaler.transform(X_test)\n",
    "\n",
    "mlp_clf = MLPClassifier(random_state=SEED)\n",
    "scores = cross_val_score(\n",
    "        mlp_clf, X_scaled, y, scoring='roc_auc', cv=5, n_jobs=-1)\n",
    "print(\"Accuracy: %0.5f (+/- %0.5f) [%s]\" % (scores.mean(), scores.std(), 'MLP Classifier'))"
   ]
  },
  {
   "cell_type": "code",
   "execution_count": 21,
   "metadata": {
    "collapsed": false
   },
   "outputs": [
    {
     "name": "stdout",
     "output_type": "stream",
     "text": [
      "Accuracy: 0.86108 (+/- 0.00716) [Voting Ensemble]\n"
     ]
    }
   ],
   "source": [
    "eclf = VotingClassifier(estimators=[('xgb', gbm_model), ('rf', rf)],voting='soft')\n",
    "scores = cross_val_score(eclf, X_scaled, y, cv=5, scoring='roc_auc')\n",
    "print(\"Accuracy: %0.5f (+/- %0.5f) [%s]\" % (scores.mean(), scores.std(), 'Voting Ensemble'))"
   ]
  },
  {
   "cell_type": "code",
   "execution_count": 22,
   "metadata": {
    "collapsed": true
   },
   "outputs": [],
   "source": [
    "eclf.fit(X_scaled, y)\n",
    "predictions = eclf.predict_proba(X_test_scaled)[:, 1]\n",
    "\n",
    "score = scores.mean()\n",
    "std = scores.std()\n",
    "model_name = 'voting_best'\n",
    "outfile = 'output/{}.csv'.format(model_name)\n"
   ]
  },
  {
   "cell_type": "code",
   "execution_count": 23,
   "metadata": {
    "collapsed": true
   },
   "outputs": [],
   "source": [
    "save_model_and_desc(bag_clf, model_name, params,\n",
    "                  score, std, SEED)\n",
    "write_results(outfile, predictions)"
   ]
  },
  {
   "cell_type": "code",
   "execution_count": null,
   "metadata": {
    "collapsed": true
   },
   "outputs": [],
   "source": []
  }
 ],
 "metadata": {
  "kernelspec": {
   "display_name": "Python [conda env:datasci]",
   "language": "python",
   "name": "conda-env-datasci-py"
  },
  "language_info": {
   "codemirror_mode": {
    "name": "ipython",
    "version": 3
   },
   "file_extension": ".py",
   "mimetype": "text/x-python",
   "name": "python",
   "nbconvert_exporter": "python",
   "pygments_lexer": "ipython3",
   "version": "3.5.2"
  }
 },
 "nbformat": 4,
 "nbformat_minor": 1
}
